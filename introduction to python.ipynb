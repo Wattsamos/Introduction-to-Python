{
 "cells": [
  {
   "cell_type": "code",
   "execution_count": null,
   "id": "d65eff24",
   "metadata": {},
   "outputs": [],
   "source": [
    "first_name = \"Amos\"\n",
    "Last_name = \"Watti\"\n",
    "age = 12 \n",
    "Origin = \"Two Town\"\n",
    "print(\"Hello everyone!!!.\\n my name is\", first_name, last_name, \"I am\", age, \"year old, from \", origin)"
   ]
  }
 ],
 "metadata": {
  "kernelspec": {
   "display_name": "Python 3 (ipykernel)",
   "language": "python",
   "name": "python3"
  },
  "language_info": {
   "codemirror_mode": {
    "name": "ipython",
    "version": 3
   },
   "file_extension": ".py",
   "mimetype": "text/x-python",
   "name": "python",
   "nbconvert_exporter": "python",
   "pygments_lexer": "ipython3",
   "version": "3.9.13"
  }
 },
 "nbformat": 4,
 "nbformat_minor": 5
}
