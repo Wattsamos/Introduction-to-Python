{
 "cells": [
  {
   "cell_type": "code",
   "execution_count": 6,
   "id": "f78bab8d",
   "metadata": {},
   "outputs": [
    {
     "name": "stdout",
     "output_type": "stream",
     "text": [
      "Hello everyone!!!. \n",
      " my name is Amos Watti I am 12 year old, from  Two Town\n"
     ]
    }
   ],
   "source": [
    "first_name = \"Amos\"\n",
    "last_name = \"Watti\"\n",
    "age = 12 \n",
    "origin = \"Two Town\"\n",
    "print(\"Hello everyone!!!. \\n my name is\", first_name, last_name, \"I am\", age, \"year old, from \", origin)"
   ]
  },
  {
   "cell_type": "code",
   "execution_count": null,
   "id": "8dae2fc8",
   "metadata": {},
   "outputs": [],
   "source": [
    "first_name = input (\"please inter your first name\")\n",
    "last_name = input (\"please inter your last name\")\n",
    "age = input(\"how old are you\") \n",
    "origin = input(\"what town are you from\") \n",
    "print(\"Hello everyone!!!.\\n my name is\", first_name, last_name, \"I am\", age, \"year old, from \", origin)"
   ]
  },
  {
   "cell_type": "code",
   "execution_count": null,
   "id": "5b4105a5",
   "metadata": {},
   "outputs": [],
   "source": []
  }
 ],
 "metadata": {
  "kernelspec": {
   "display_name": "Python 3 (ipykernel)",
   "language": "python",
   "name": "python3"
  },
  "language_info": {
   "codemirror_mode": {
    "name": "ipython",
    "version": 3
   },
   "file_extension": ".py",
   "mimetype": "text/x-python",
   "name": "python",
   "nbconvert_exporter": "python",
   "pygments_lexer": "ipython3",
   "version": "3.9.13"
  }
 },
 "nbformat": 4,
 "nbformat_minor": 5
}
