{
 "cells": [
  {
   "cell_type": "markdown",
   "id": "159317ee",
   "metadata": {},
   "source": [
    "# if statement\n",
    "1. Write a Python if statement that checks if a variable `age` is greater than or equal to 18. If it is, print \"You are an adult\", otherwise, print \"You are a minor\".\n",
    "\n",
    "2. Create a Python if-else statement that checks if a number `num` is positive, negative, or zero. If `num` is positive, print \"Positive number\", if it is negative, print \"Negative number\", and if it is zero, print \"Zero\".\n",
    "\n",
    "3. Write a Python program that asks the user to enter their exam score. then print the corresponding grade according to the following criteria:\n",
    "   - 90 or above: \"A\"\n",
    "   - 80 to 89: \"B\"\n",
    "   - 70 to 79: \"C\"\n",
    "   - 60 to 69: \"D\"\n",
    "   - Below 60: \"F\"\n",
    "\n",
    "4. Create a Python program that checks if a given year `year` is a leap year. If `year` is divisible by 4 and not divisible by 100, or it is divisible by 400, then it is a leap year. Print \"Leap year\" if it is, otherwise, print \"Not a leap year\".\n",
    "\n",
    "5. Write a Python function called `maximum` that takes three arguments: `a`, `b`, and `c`. The function should use if statements to return the maximum value among the three.\n",
    "\n"
   ]
  },
  {
   "cell_type": "code",
   "execution_count": null,
   "id": "95d78279",
   "metadata": {},
   "outputs": [],
   "source": []
  },
  {
   "cell_type": "markdown",
   "id": "aacd270b",
   "metadata": {},
   "source": [
    "# for loop\n",
    "1. Write a Python for loop that prints the numbers from 1 to 10, inclusive.\n",
    "\n",
    "2. Create a Python program that calculates the sum of all the elements in a given list `numbers` using a for loop.\n",
    "\n",
    "3. Write a Python for loop that iterates over a string `message` and prints each character on a new line.\n",
    "\n",
    "4. Create a Python program that generates a multiplication table for a given number `n`. The table should display the first 10 multiples of `n`.\n",
    "\n",
    "5. Write a Python program that takes a list of words as input and uses a for loop to count the number of vowels (a, e, i, o, u) in each word. Print the word along with the vowel count for each word.\n",
    "\n"
   ]
  },
  {
   "cell_type": "code",
   "execution_count": 6,
   "id": "1dee2667",
   "metadata": {},
   "outputs": [
    {
     "name": "stdout",
     "output_type": "stream",
     "text": [
      "enter the year 1994\n",
      "not leap year\n"
     ]
    }
   ],
   "source": [
    "year = int(input(\"enter the year \"))\n",
    "if (year%4==0 and year%100!=0) or (year%400==0 and year%100!=0):\n",
    "    print(\"leap year \")\n",
    "else:\n",
    "    print(\"not leap year\")"
   ]
  },
  {
   "cell_type": "code",
   "execution_count": 1,
   "id": "28f2db29",
   "metadata": {},
   "outputs": [],
   "source": [
    "def ola():\n",
    "    year = int(input(\"enter the year \"))\n",
    "    if (year%4==0 and year%100!=0) or (year%400==0 and year%100!=0):\n",
    "        print(\"leap year \")\n",
    "    else:\n",
    "        print(\"not leap year\")"
   ]
  },
  {
   "cell_type": "code",
   "execution_count": null,
   "id": "6826cc73",
   "metadata": {},
   "outputs": [],
   "source": []
  },
  {
   "cell_type": "code",
   "execution_count": 2,
   "id": "0d526a44",
   "metadata": {},
   "outputs": [
    {
     "name": "stdout",
     "output_type": "stream",
     "text": [
      "enter the year 2020\n",
      "leap year \n"
     ]
    }
   ],
   "source": [
    "ola()"
   ]
  },
  {
   "cell_type": "markdown",
   "id": "e07f7d9a",
   "metadata": {},
   "source": [
    "# while loop\n",
    "1. Write a Python while loop that prints the numbers from 1 to 5, inclusive.\n",
    "\n",
    "2. Create a Python program that asks the user to enter a positive integer. Use a while loop to check if the input is a valid positive integer. Keep asking for input until a valid integer is entered.\n",
    "\n",
    "3. Write a Python while loop that calculates the sum of all the even numbers from 1 to 50.\n",
    "\n",
    "4. Create a Python program that simulates a simple guessing game. Generate a random number between 1 and 100, and then ask the user to guess the number. Provide hints like \"Too high\" or \"Too low\" until the user guesses the correct number. Use a while loop to keep the game running until the correct number is guessed.\n",
    "\n",
    "5. Write a Python program that takes a list of numbers as input and uses a while loop to find and print the largest number in the list. The program should keep asking the user for numbers until they enter \"done\" as a signal to stop entering numbers.\n",
    "\n"
   ]
  },
  {
   "cell_type": "code",
   "execution_count": null,
   "id": "842237fe",
   "metadata": {},
   "outputs": [],
   "source": []
  },
  {
   "cell_type": "code",
   "execution_count": 3,
   "id": "6236ed0d",
   "metadata": {},
   "outputs": [
    {
     "name": "stdout",
     "output_type": "stream",
     "text": [
      "enter the year 1992\n",
      "leap year \n"
     ]
    }
   ],
   "source": [
    "ola()"
   ]
  },
  {
   "cell_type": "code",
   "execution_count": 4,
   "id": "1a0f8593",
   "metadata": {},
   "outputs": [
    {
     "name": "stdout",
     "output_type": "stream",
     "text": [
      "enter your age10\n",
      "10\n",
      "You are a minor\n"
     ]
    }
   ],
   "source": [
    "age = int( input(\"enter your age\"))\n",
    "print(age)\n",
    "if age>=18:\n",
    "    print(\"You are an adult\")\n",
    "else:\n",
    "    print(\"You are a minor\")"
   ]
  },
  {
   "cell_type": "code",
   "execution_count": 21,
   "id": "d873e10d",
   "metadata": {},
   "outputs": [
    {
     "name": "stdout",
     "output_type": "stream",
     "text": [
      "10\n",
      "10\n",
      "Positive number\n"
     ]
    }
   ],
   "source": [
    "num =int( input())\n",
    "print(num)\n",
    "if num>=1:\n",
    "    print(\"Positive number\")\n",
    "elif num<0:\n",
    "    print(\"Negative number\")\n",
    "else:\n",
    "    print(\"Zero\")"
   ]
  },
  {
   "cell_type": "code",
   "execution_count": 22,
   "id": "6e29e8c4",
   "metadata": {},
   "outputs": [
    {
     "name": "stdout",
     "output_type": "stream",
     "text": [
      "-10\n",
      "-10\n",
      "Negative number\n"
     ]
    }
   ],
   "source": [
    "num =int( input())\n",
    "print(num)\n",
    "if num>=1:\n",
    "    print(\"Positive number\")\n",
    "elif num<0:\n",
    "    print(\"Negative number\")\n",
    "else:\n",
    "    print(\"Zero\")"
   ]
  },
  {
   "cell_type": "code",
   "execution_count": 23,
   "id": "748ebe99",
   "metadata": {},
   "outputs": [
    {
     "name": "stdout",
     "output_type": "stream",
     "text": [
      "0\n",
      "0\n",
      "Zero\n"
     ]
    }
   ],
   "source": [
    "num =int( input())\n",
    "print(num)\n",
    "if num>=1:\n",
    "    print(\"Positive number\")\n",
    "elif num<0:\n",
    "    print(\"Negative number\")\n",
    "else:\n",
    "    print(\"Zero\")"
   ]
  },
  {
   "cell_type": "code",
   "execution_count": 25,
   "id": "5cd1169a",
   "metadata": {},
   "outputs": [
    {
     "name": "stdout",
     "output_type": "stream",
     "text": [
      "81\n",
      "grade B\n"
     ]
    }
   ],
   "source": [
    "score= int(input())\n",
    "if score>=90:\n",
    "    print(\"grade A\")\n",
    "elif score>=80:\n",
    "    print(\"grade B\")\n",
    "elif score>=70:\n",
    "    print(\"grade C\")\n",
    "elif score>=60:\n",
    "    print(\"grade D\")\n",
    "else:\n",
    "    print(\"grade F\")"
   ]
  },
  {
   "cell_type": "code",
   "execution_count": 29,
   "id": "3afdb148",
   "metadata": {},
   "outputs": [
    {
     "name": "stdout",
     "output_type": "stream",
     "text": [
      "enter year1996\n",
      "leap year\n"
     ]
    }
   ],
   "source": [
    "year= int(input(\"enter year\"))\n",
    "if (year %4==0 and year %100!=0) or (year %400==0):\n",
    "    print(\"leap year\")\n",
    "else:\n",
    "    print(\"not leap year\")"
   ]
  },
  {
   "cell_type": "code",
   "execution_count": null,
   "id": "f362e9a7",
   "metadata": {},
   "outputs": [],
   "source": [
    "# question2 in loop"
   ]
  },
  {
   "cell_type": "code",
   "execution_count": null,
   "id": "e2e71524",
   "metadata": {},
   "outputs": [],
   "source": []
  },
  {
   "cell_type": "code",
   "execution_count": null,
   "id": "0dccb7d2",
   "metadata": {},
   "outputs": [],
   "source": []
  },
  {
   "cell_type": "code",
   "execution_count": null,
   "id": "44619bdd",
   "metadata": {},
   "outputs": [],
   "source": []
  },
  {
   "cell_type": "raw",
   "id": "84923d72",
   "metadata": {},
   "source": [
    "# loop question"
   ]
  },
  {
   "cell_type": "code",
   "execution_count": null,
   "id": "70e801cb",
   "metadata": {},
   "outputs": [],
   "source": [
    "#question 4Create a Python program that generates a multiplication table for a given number n. The table should display the first 10 multiples of n"
   ]
  },
  {
   "cell_type": "code",
   "execution_count": 30,
   "id": "e93663d2",
   "metadata": {},
   "outputs": [],
   "source": [
    "def multiplication(n):\n",
    "    for a in range(1,11):\n",
    "        print(f\"{n} x {a}= {n*a}\")"
   ]
  },
  {
   "cell_type": "code",
   "execution_count": 31,
   "id": "46a3b47b",
   "metadata": {},
   "outputs": [
    {
     "name": "stdout",
     "output_type": "stream",
     "text": [
      "4 x 1= 4\n",
      "4 x 2= 8\n",
      "4 x 3= 12\n",
      "4 x 4= 16\n",
      "4 x 5= 20\n",
      "4 x 6= 24\n",
      "4 x 7= 28\n",
      "4 x 8= 32\n",
      "4 x 9= 36\n",
      "4 x 10= 40\n"
     ]
    }
   ],
   "source": [
    "multiplication(4)"
   ]
  },
  {
   "cell_type": "code",
   "execution_count": null,
   "id": "65b4c163",
   "metadata": {},
   "outputs": [],
   "source": [
    "#Write a Python program that takes a list of words as input and uses a for loop to count the number of vowels (a, e, i, o, u) in each word. Print the word along with the vowel count for each word."
   ]
  },
  {
   "cell_type": "code",
   "execution_count": 32,
   "id": "225cb245",
   "metadata": {},
   "outputs": [],
   "source": [
    "def vowel_count(word):\n",
    "    vowels = \"aeiou\"\n",
    "    vowels_count=0\n",
    "    for i in word:\n",
    "        if i in vowels:\n",
    "            vowels_count+=1\n",
    "    return vowels_count"
   ]
  },
  {
   "cell_type": "code",
   "execution_count": 33,
   "id": "97cfacff",
   "metadata": {},
   "outputs": [
    {
     "data": {
      "text/plain": [
       "2"
      ]
     },
     "execution_count": 33,
     "metadata": {},
     "output_type": "execute_result"
    }
   ],
   "source": [
    "vowel_count(\"amos\")"
   ]
  },
  {
   "cell_type": "code",
   "execution_count": 35,
   "id": "e50fe46e",
   "metadata": {},
   "outputs": [
    {
     "name": "stdout",
     "output_type": "stream",
     "text": [
      "the count of vowel in olaitan is 4\n",
      "the count of vowel in kazeem is 3\n",
      "the count of vowel in goat is 2\n",
      "the count of vowel in AMOS is 2\n"
     ]
    }
   ],
   "source": [
    "def vowel_count(word):\n",
    "    vowels = \"aeiouAEIOU\"\n",
    "    vowels_count=0\n",
    "    for i in word:\n",
    "        if i in vowels:\n",
    "            vowels_count+=1\n",
    "    return vowels_count\n",
    "\n",
    "\n",
    "list1=[\"olaitan\", \"kazeem\", \"goat\", \"AMOS\"]\n",
    "for i in list1:\n",
    "    print(f\"the count of vowel in {i} is {vowel_count(i)}\")"
   ]
  },
  {
   "cell_type": "markdown",
   "id": "157831c3",
   "metadata": {},
   "source": [
    "# OOP:Object- Oriented Programming\n",
    "## "
   ]
  },
  {
   "cell_type": "code",
   "execution_count": 33,
   "id": "39238201",
   "metadata": {},
   "outputs": [],
   "source": [
    "class Human:\n",
    "    def __init__(self, first_name, last_name, age):\n",
    "        self.first_name=first_name\n",
    "        self.last_name=last_name\n",
    "        self.age=age\n",
    "        \n",
    "    def introduction(self):\n",
    "         print(f\"my name is {self.first_name} {self.last_name}, i am {self.age} years old\")\n",
    "            \n",
    "    def greet(self):\n",
    "         print(f\"my name is {self.first_name} {self.last_name}, and i welcome everyone to our school\")"
   ]
  },
  {
   "cell_type": "code",
   "execution_count": 34,
   "id": "575786ff",
   "metadata": {},
   "outputs": [],
   "source": [
    "first_Human =Human(\"Adam\",\"Adam\",12)"
   ]
  },
  {
   "cell_type": "code",
   "execution_count": 35,
   "id": "60cdae71",
   "metadata": {},
   "outputs": [
    {
     "name": "stdout",
     "output_type": "stream",
     "text": [
      "my name is Adam Adam, i am 12 years old\n"
     ]
    }
   ],
   "source": [
    "first_Human.introduction()"
   ]
  },
  {
   "cell_type": "code",
   "execution_count": 36,
   "id": "d1b01c86",
   "metadata": {},
   "outputs": [
    {
     "name": "stdout",
     "output_type": "stream",
     "text": [
      "my name is Adam Adam, and i welcome everyone to our school\n"
     ]
    }
   ],
   "source": [
    "first_Human.greet()"
   ]
  },
  {
   "cell_type": "code",
   "execution_count": 37,
   "id": "d70f9605",
   "metadata": {},
   "outputs": [
    {
     "name": "stdout",
     "output_type": "stream",
     "text": [
      "my name is Eve Adam, and i welcome everyone to our school\n"
     ]
    }
   ],
   "source": [
    "second_Human = Human(\"Eve\", \"Adam\", 6)\n",
    "second_Human.greet()"
   ]
  },
  {
   "cell_type": "code",
   "execution_count": 38,
   "id": "e8080ea3",
   "metadata": {},
   "outputs": [
    {
     "name": "stdout",
     "output_type": "stream",
     "text": [
      "my name is Amos Watts, i am 23 years old\n"
     ]
    }
   ],
   "source": [
    "third_Human =Human(\"Amos\", \"Watts\", 23)\n",
    "third_Human.introduction()"
   ]
  },
  {
   "cell_type": "code",
   "execution_count": null,
   "id": "676c7fb8",
   "metadata": {},
   "outputs": [],
   "source": []
  },
  {
   "cell_type": "code",
   "execution_count": null,
   "id": "ea1ebd13",
   "metadata": {},
   "outputs": [],
   "source": []
  },
  {
   "cell_type": "code",
   "execution_count": null,
   "id": "a163ac24",
   "metadata": {},
   "outputs": [],
   "source": []
  },
  {
   "cell_type": "code",
   "execution_count": null,
   "id": "508e7a0a",
   "metadata": {},
   "outputs": [],
   "source": []
  },
  {
   "cell_type": "code",
   "execution_count": null,
   "id": "9496a536",
   "metadata": {},
   "outputs": [],
   "source": []
  },
  {
   "cell_type": "code",
   "execution_count": null,
   "id": "d3ae27fd",
   "metadata": {},
   "outputs": [],
   "source": []
  },
  {
   "cell_type": "markdown",
   "id": "893c3934",
   "metadata": {},
   "source": [
    "# "
   ]
  }
 ],
 "metadata": {
  "kernelspec": {
   "display_name": "Python 3 (ipykernel)",
   "language": "python",
   "name": "python3"
  },
  "language_info": {
   "codemirror_mode": {
    "name": "ipython",
    "version": 3
   },
   "file_extension": ".py",
   "mimetype": "text/x-python",
   "name": "python",
   "nbconvert_exporter": "python",
   "pygments_lexer": "ipython3",
   "version": "3.9.13"
  }
 },
 "nbformat": 4,
 "nbformat_minor": 5
}
