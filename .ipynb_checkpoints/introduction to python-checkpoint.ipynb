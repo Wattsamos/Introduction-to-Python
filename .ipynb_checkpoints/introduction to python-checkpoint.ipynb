{
 "cells": [
  {
   "cell_type": "code",
   "execution_count": null,
   "id": "f222a063",
   "metadata": {},
   "outputs": [],
   "source": [
    "first_name = \"Amos\"\n",
    "last_name = \"Watti\"\n",
    "age = 12 \n",
    "origin = \"Two Town\"\n",
    "print(\"Hello everyone!!!. \\n my name is\", first_name, last_name, \"I am\", age, \"year old, from \", origin)"
   ]
  },
  {
   "cell_type": "code",
   "execution_count": null,
   "id": "abbd3075",
   "metadata": {},
   "outputs": [],
   "source": [
    "first_name = input (\"please inter your first name\")\n",
    "last_name = input (\"please inter your last name\")\n",
    "age = input(\"how old are you\") \n",
    "origin = input(\"what town are you from\") \n",
    "print(\"Hello everyone!!!.\\n my name is\", first_name, last_name, \"I am\", age, \"year old, from \", origin)"
   ]
  },
  {
   "cell_type": "code",
   "execution_count": 1,
   "id": "cbc0826d",
   "metadata": {},
   "outputs": [
    {
     "name": "stdout",
     "output_type": "stream",
     "text": [
      "please inter your first nameAmos\n",
      "please inter your last name     Watti\n",
      "how old are you  33\n",
      "what town are you from Lagos\n",
      "Hello everyone!!!.\n",
      " my name is Amos      Watti I am   33 year old, from   Lagos\n"
     ]
    }
   ],
   "source": [
    "first_name = input (\"please inter your first name\")\n",
    "last_name = input (\"please inter your last name\")\n",
    "age = input(\"how old are you\") \n",
    "origin = input(\"what town are you from\") \n",
    "print(\"Hello everyone!!!.\\n my name is\", first_name, last_name, \"I am\", age, \"year old, from \", origin)"
   ]
  },
  {
   "cell_type": "markdown",
   "id": "caf2a83b",
   "metadata": {},
   "source": [
    "# INTRODUCTION TO PYTHON"
   ]
  },
  {
   "cell_type": "code",
   "execution_count": 2,
   "id": "c1beb36b",
   "metadata": {},
   "outputs": [],
   "source": [
    "# Python is fun to learn"
   ]
  },
  {
   "cell_type": "markdown",
   "id": "e5d111f1",
   "metadata": {},
   "source": [
    "1. The name of a person\n",
    "2. The view point"
   ]
  },
  {
   "cell_type": "code",
   "execution_count": 1,
   "id": "7b30b403",
   "metadata": {},
   "outputs": [
    {
     "name": "stdout",
     "output_type": "stream",
     "text": [
      "please enter the first number2\n",
      "please enter the second number7\n",
      "The sum of the number entered is 9\n"
     ]
    }
   ],
   "source": [
    "# write a python script to take two numbers from a user and sum of the numbers\n",
    "number1 = int(input(\"please enter the first number \"))\n",
    "number2 = int(input(\"please enter the second number \"))\n",
    "total = number1 + number2\n",
    "print(\"The sum of the number entered is\", total)"
   ]
  },
  {
   "cell_type": "markdown",
   "id": "12b50d0e",
   "metadata": {},
   "source": [
    "# OPERATORS IN PYTHON\n",
    "\n",
    "Operator is used to manipulate operand\n",
    "1. Arithmetic\n",
    "2. Comaprison\n",
    "3. Identity \n",
    "4. Membership\n",
    "5. Logical \n",
    "6. Assignment\n",
    "7. Bitwise"
   ]
  },
  {
   "cell_type": "markdown",
   "id": "e314014f",
   "metadata": {},
   "source": [
    "# Arithmetic"
   ]
  },
  {
   "cell_type": "code",
   "execution_count": 3,
   "id": "01aebb9a",
   "metadata": {},
   "outputs": [
    {
     "name": "stdout",
     "output_type": "stream",
     "text": [
      "20\n"
     ]
    }
   ],
   "source": [
    "# Addition (+)\n",
    "a = 12\n",
    "b = 20\n",
    "c = a=b\n",
    "print(c)"
   ]
  },
  {
   "cell_type": "code",
   "execution_count": 4,
   "id": "70b71b87",
   "metadata": {},
   "outputs": [
    {
     "name": "stdout",
     "output_type": "stream",
     "text": [
      "-8\n"
     ]
    }
   ],
   "source": [
    "# Substraction (-)\n",
    "a = 12\n",
    "b = 20\n",
    "c = a-b\n",
    "print(c)"
   ]
  },
  {
   "cell_type": "code",
   "execution_count": 5,
   "id": "f2ccb601",
   "metadata": {},
   "outputs": [
    {
     "name": "stdout",
     "output_type": "stream",
     "text": [
      "0.6\n"
     ]
    }
   ],
   "source": [
    "# Division (/)\n",
    "a = 12\n",
    "b = 20\n",
    "c = a/b\n",
    "print(c)"
   ]
  },
  {
   "cell_type": "code",
   "execution_count": 7,
   "id": "28bb6c30",
   "metadata": {},
   "outputs": [
    {
     "name": "stdout",
     "output_type": "stream",
     "text": [
      "1\n"
     ]
    }
   ],
   "source": [
    "# Modulus (%): return remainder of division\n",
    "a = 10\n",
    "b = 3\n",
    "c = a%b\n",
    "print(c)"
   ]
  },
  {
   "cell_type": "code",
   "execution_count": 8,
   "id": "ae09d10b",
   "metadata": {},
   "outputs": [
    {
     "name": "stdout",
     "output_type": "stream",
     "text": [
      "0\n"
     ]
    }
   ],
   "source": [
    "# Modulus (%): return remainder of division\n",
    "a = 20\n",
    "b = 10\n",
    "c = a%b\n",
    "print(c)"
   ]
  },
  {
   "cell_type": "markdown",
   "id": "0e7a1337",
   "metadata": {},
   "source": [
    "# Comparison\n",
    "It can be used to comapare two or more variable and the outcome is BULIAN(TRUE OR FALSE)"
   ]
  },
  {
   "cell_type": "code",
   "execution_count": 9,
   "id": "32bc8c83",
   "metadata": {},
   "outputs": [
    {
     "data": {
      "text/plain": [
       "False"
      ]
     },
     "execution_count": 9,
     "metadata": {},
     "output_type": "execute_result"
    }
   ],
   "source": [
    "# Greater than(>)\n",
    "a = 6\n",
    "b = 20\n",
    "a>b"
   ]
  },
  {
   "cell_type": "code",
   "execution_count": 10,
   "id": "55eb0c97",
   "metadata": {},
   "outputs": [
    {
     "data": {
      "text/plain": [
       "True"
      ]
     },
     "execution_count": 10,
     "metadata": {},
     "output_type": "execute_result"
    }
   ],
   "source": [
    "# Greater than or equal to(>=)\n",
    "a = 6\n",
    "b = 20\n",
    "a<=b"
   ]
  },
  {
   "cell_type": "code",
   "execution_count": 11,
   "id": "6000a4f8",
   "metadata": {},
   "outputs": [
    {
     "data": {
      "text/plain": [
       "True"
      ]
     },
     "execution_count": 11,
     "metadata": {},
     "output_type": "execute_result"
    }
   ],
   "source": [
    "# Less than(>)\n",
    "a = 6\n",
    "b = 20\n",
    "a<b"
   ]
  },
  {
   "cell_type": "code",
   "execution_count": 12,
   "id": "c1a4acc8",
   "metadata": {},
   "outputs": [
    {
     "data": {
      "text/plain": [
       "False"
      ]
     },
     "execution_count": 12,
     "metadata": {},
     "output_type": "execute_result"
    }
   ],
   "source": [
    "# equal to (==)\n",
    "a = 10\n",
    "v = 9\n",
    "a== v # comapring"
   ]
  },
  {
   "cell_type": "code",
   "execution_count": 13,
   "id": "f92c647b",
   "metadata": {},
   "outputs": [],
   "source": [
    "a=v # assigning"
   ]
  },
  {
   "cell_type": "code",
   "execution_count": 14,
   "id": "4aac1993",
   "metadata": {},
   "outputs": [
    {
     "data": {
      "text/plain": [
       "True"
      ]
     },
     "execution_count": 14,
     "metadata": {},
     "output_type": "execute_result"
    }
   ],
   "source": [
    "a==v # comparing"
   ]
  },
  {
   "cell_type": "markdown",
   "id": "77944250",
   "metadata": {},
   "source": [
    "# Assignment"
   ]
  },
  {
   "cell_type": "code",
   "execution_count": 15,
   "id": "e9a57d9f",
   "metadata": {},
   "outputs": [],
   "source": [
    "# equal to\n",
    "a = 4"
   ]
  },
  {
   "cell_type": "code",
   "execution_count": 17,
   "id": "d83d351c",
   "metadata": {},
   "outputs": [
    {
     "name": "stdout",
     "output_type": "stream",
     "text": [
      "3\n"
     ]
    }
   ],
   "source": [
    "# increament\n",
    "a = 2\n",
    "a+=1\n",
    "print(a)"
   ]
  },
  {
   "cell_type": "code",
   "execution_count": 18,
   "id": "2fb8e8be",
   "metadata": {},
   "outputs": [
    {
     "name": "stdout",
     "output_type": "stream",
     "text": [
      "value of ola before increament  2\n",
      "value of ola after increament  10\n"
     ]
    }
   ],
   "source": [
    "# increament\n",
    "ola = 2\n",
    "print(\"value of ola before increament \", ola)\n",
    "ola +=8 # increase the initial of a with 1\n",
    "print(\"value of ola after increament \", ola)"
   ]
  },
  {
   "cell_type": "code",
   "execution_count": 19,
   "id": "c2b37554",
   "metadata": {},
   "outputs": [
    {
     "name": "stdout",
     "output_type": "stream",
     "text": [
      "value of ola before decrease  2\n",
      "value of ola after decreament  -6\n"
     ]
    }
   ],
   "source": [
    "# decreament\n",
    "ola = 2\n",
    "print(\"value of ola before decrease \", ola)\n",
    "ola -=8 # decrease the initial of a with 1\n",
    "print(\"value of ola after decreament \", ola)"
   ]
  },
  {
   "cell_type": "markdown",
   "id": "affa0ab6",
   "metadata": {},
   "source": [
    "\n",
    "# MEMBERSHIP"
   ]
  },
  {
   "cell_type": "code",
   "execution_count": 22,
   "id": "8defe5b7",
   "metadata": {},
   "outputs": [
    {
     "data": {
      "text/plain": [
       "True"
      ]
     },
     "execution_count": 22,
     "metadata": {},
     "output_type": "execute_result"
    }
   ],
   "source": [
    "# Membership\n",
    "#in/ not in\n",
    "7 in [1,2,3,45,7]"
   ]
  },
  {
   "cell_type": "code",
   "execution_count": 24,
   "id": "f0b7cc66",
   "metadata": {},
   "outputs": [
    {
     "data": {
      "text/plain": [
       "False"
      ]
     },
     "execution_count": 24,
     "metadata": {},
     "output_type": "execute_result"
    }
   ],
   "source": [
    "7  not in[1,2,3,45,7]"
   ]
  },
  {
   "cell_type": "code",
   "execution_count": 25,
   "id": "ca0edf19",
   "metadata": {},
   "outputs": [
    {
     "data": {
      "text/plain": [
       "True"
      ]
     },
     "execution_count": 25,
     "metadata": {},
     "output_type": "execute_result"
    }
   ],
   "source": [
    "a =4\n",
    "b= 4\n",
    "a is b"
   ]
  },
  {
   "cell_type": "code",
   "execution_count": 27,
   "id": "a6d6f0a1",
   "metadata": {},
   "outputs": [
    {
     "data": {
      "text/plain": [
       "False"
      ]
     },
     "execution_count": 27,
     "metadata": {},
     "output_type": "execute_result"
    }
   ],
   "source": [
    "a =\"Ola\"\n",
    "b= \"ola\"\n",
    "a is b"
   ]
  },
  {
   "cell_type": "markdown",
   "id": "e18b5771",
   "metadata": {},
   "source": [
    "# LOGICAL"
   ]
  },
  {
   "cell_type": "code",
   "execution_count": 28,
   "id": "3c8c73a9",
   "metadata": {},
   "outputs": [
    {
     "data": {
      "text/plain": [
       "False"
      ]
     },
     "execution_count": 28,
     "metadata": {},
     "output_type": "execute_result"
    }
   ],
   "source": [
    "# and/ or\n",
    "(12> 4) and (8<2)"
   ]
  },
  {
   "cell_type": "code",
   "execution_count": 29,
   "id": "9292976e",
   "metadata": {},
   "outputs": [
    {
     "data": {
      "text/plain": [
       "True"
      ]
     },
     "execution_count": 29,
     "metadata": {},
     "output_type": "execute_result"
    }
   ],
   "source": [
    "(12> 4) and (8>2)"
   ]
  },
  {
   "cell_type": "markdown",
   "id": "745bf88e",
   "metadata": {},
   "source": [
    "# Datatype in Python"
   ]
  },
  {
   "cell_type": "markdown",
   "id": "501ee2a4",
   "metadata": {},
   "source": [
    "Mutable Datatype: It can be modified after declaration\n",
    "- list\n",
    "- dictionary\n",
    "- Set\n",
    "Immutable : They can be modify after decalaration\n",
    "- number\n",
    "- str\n",
    "- tuple\n"
   ]
  },
  {
   "cell_type": "code",
   "execution_count": 32,
   "id": "ce680b59",
   "metadata": {},
   "outputs": [],
   "source": [
    "# str: are sequence of characters\n",
    "name = 'olaitan'\n",
    "name = \"olaitan\"\n",
    "name = \"\"\"this string is \n",
    "          very long in such \n",
    "          a way that i need to \n",
    "          come to the lines\"\"\""
   ]
  },
  {
   "cell_type": "code",
   "execution_count": null,
   "id": "6758b748",
   "metadata": {},
   "outputs": [],
   "source": [
    "# NUMBER\n",
    ". int_ = 1928 old numbers\n",
    ". float_= 293834.884\n",
    ". complex_= 3+3"
   ]
  },
  {
   "cell_type": "markdown",
   "id": "d280ca1e",
   "metadata": {},
   "source": [
    "# Indexing and Slicing"
   ]
  },
  {
   "cell_type": "code",
   "execution_count": 33,
   "id": "00c55fcb",
   "metadata": {},
   "outputs": [
    {
     "data": {
      "text/plain": [
       "'o'"
      ]
     },
     "execution_count": 33,
     "metadata": {},
     "output_type": "execute_result"
    }
   ],
   "source": [
    "name = \"olaitan\"\n",
    "# return o from olaitan\n",
    "name[0] # forward indexing"
   ]
  },
  {
   "cell_type": "code",
   "execution_count": 34,
   "id": "4bed142f",
   "metadata": {},
   "outputs": [
    {
     "data": {
      "text/plain": [
       "'o'"
      ]
     },
     "execution_count": 34,
     "metadata": {},
     "output_type": "execute_result"
    }
   ],
   "source": [
    "name[-7] # backward indexing"
   ]
  },
  {
   "cell_type": "code",
   "execution_count": 35,
   "id": "94375b98",
   "metadata": {},
   "outputs": [
    {
     "data": {
      "text/plain": [
       "'i'"
      ]
     },
     "execution_count": 35,
     "metadata": {},
     "output_type": "execute_result"
    }
   ],
   "source": [
    "name[3] #forward indexing returning i"
   ]
  },
  {
   "cell_type": "code",
   "execution_count": 36,
   "id": "cca44839",
   "metadata": {},
   "outputs": [
    {
     "data": {
      "text/plain": [
       "'l'"
      ]
     },
     "execution_count": 36,
     "metadata": {},
     "output_type": "execute_result"
    }
   ],
   "source": [
    "name[-6] # backward indexing retirning l"
   ]
  },
  {
   "cell_type": "code",
   "execution_count": 37,
   "id": "2f2f38f2",
   "metadata": {},
   "outputs": [],
   "source": [
    "#slicing"
   ]
  },
  {
   "cell_type": "code",
   "execution_count": null,
   "id": "ec1ea21a",
   "metadata": {},
   "outputs": [],
   "source": [
    "[index no: position no: skip no]"
   ]
  },
  {
   "cell_type": "code",
   "execution_count": null,
   "id": "4886d148",
   "metadata": {},
   "outputs": [],
   "source": [
    "#index no start from 0 when counting"
   ]
  },
  {
   "cell_type": "code",
   "execution_count": 39,
   "id": "007c486b",
   "metadata": {},
   "outputs": [],
   "source": [
    "# return ai from olaitan"
   ]
  },
  {
   "cell_type": "code",
   "execution_count": 40,
   "id": "af842201",
   "metadata": {},
   "outputs": [
    {
     "data": {
      "text/plain": [
       "'ai'"
      ]
     },
     "execution_count": 40,
     "metadata": {},
     "output_type": "execute_result"
    }
   ],
   "source": [
    "name[2:4]"
   ]
  },
  {
   "cell_type": "code",
   "execution_count": 41,
   "id": "ecb38c58",
   "metadata": {},
   "outputs": [
    {
     "data": {
      "text/plain": [
       "'fun'"
      ]
     },
     "execution_count": 41,
     "metadata": {},
     "output_type": "execute_result"
    }
   ],
   "source": [
    "info = \"python is fun to learn\"\n",
    "# return fun from the variable\n",
    "info[10:13]"
   ]
  },
  {
   "cell_type": "code",
   "execution_count": 42,
   "id": "2a82fdfd",
   "metadata": {},
   "outputs": [
    {
     "data": {
      "text/plain": [
       "'olaitan'"
      ]
     },
     "execution_count": 42,
     "metadata": {},
     "output_type": "execute_result"
    }
   ],
   "source": [
    "name[:]"
   ]
  },
  {
   "cell_type": "code",
   "execution_count": 43,
   "id": "ed2d5ab6",
   "metadata": {},
   "outputs": [
    {
     "data": {
      "text/plain": [
       "'olaitan'"
      ]
     },
     "execution_count": 43,
     "metadata": {},
     "output_type": "execute_result"
    }
   ],
   "source": [
    "name[0:7]"
   ]
  },
  {
   "cell_type": "code",
   "execution_count": 44,
   "id": "00893f54",
   "metadata": {},
   "outputs": [
    {
     "data": {
      "text/plain": [
       "'oa'"
      ]
     },
     "execution_count": 44,
     "metadata": {},
     "output_type": "execute_result"
    }
   ],
   "source": [
    "name[0:7: 5]"
   ]
  },
  {
   "cell_type": "code",
   "execution_count": null,
   "id": "8773295b",
   "metadata": {},
   "outputs": [],
   "source": [
    "info = \"Python is fun to learn\"\n",
    "# return \"if  a\""
   ]
  },
  {
   "cell_type": "code",
   "execution_count": 66,
   "id": "92eb3fe3",
   "metadata": {},
   "outputs": [
    {
     "data": {
      "text/plain": [
       "'if  a'"
      ]
     },
     "execution_count": 66,
     "metadata": {},
     "output_type": "execute_result"
    }
   ],
   "source": [
    "info[7:20:3]"
   ]
  },
  {
   "cell_type": "markdown",
   "id": "626019c5",
   "metadata": {},
   "source": [
    "# STRING METHOD\n",
    "Is a unique function for datatype that we have\n",
    "1. Split\n",
    "2. strip\n",
    "3. endswith\n",
    "4. startwith\n",
    "5. upper/lower\n",
    "6. format"
   ]
  },
  {
   "cell_type": "code",
   "execution_count": 67,
   "id": "6a1bc9fc",
   "metadata": {},
   "outputs": [
    {
     "data": {
      "text/plain": [
       "'python is fun to learn'"
      ]
     },
     "execution_count": 67,
     "metadata": {},
     "output_type": "execute_result"
    }
   ],
   "source": [
    "info"
   ]
  },
  {
   "cell_type": "code",
   "execution_count": 75,
   "id": "bad16831",
   "metadata": {},
   "outputs": [
    {
     "data": {
      "text/plain": [
       "['python', 'is', 'fun', 'to', 'learn']"
      ]
     },
     "execution_count": 75,
     "metadata": {},
     "output_type": "execute_result"
    }
   ],
   "source": [
    "# split is used to split string at any given space or specified character. the output is list\n",
    "info.split()\n"
   ]
  },
  {
   "cell_type": "code",
   "execution_count": 77,
   "id": "b61dab88",
   "metadata": {},
   "outputs": [
    {
     "data": {
      "text/plain": [
       "['My', 'name', 'is', 'olaitan', 'and', 'i', 'am', 'taking', 'python', 'class']"
      ]
     },
     "execution_count": 77,
     "metadata": {},
     "output_type": "execute_result"
    }
   ],
   "source": [
    "gist = \"My/name/is/olaitan/and/i/am/taking/python/class\"\n",
    "gist.split(\"/\")"
   ]
  },
  {
   "cell_type": "code",
   "execution_count": 78,
   "id": "c97df3e4",
   "metadata": {},
   "outputs": [
    {
     "data": {
      "text/plain": [
       "'olaitan'"
      ]
     },
     "execution_count": 78,
     "metadata": {},
     "output_type": "execute_result"
    }
   ],
   "source": [
    "name = \"olaitan\"\n",
    "name.strip()"
   ]
  },
  {
   "cell_type": "code",
   "execution_count": 79,
   "id": "5dccf22d",
   "metadata": {},
   "outputs": [
    {
     "data": {
      "text/plain": [
       "'olaitan'"
      ]
     },
     "execution_count": 79,
     "metadata": {},
     "output_type": "execute_result"
    }
   ],
   "source": [
    "name =\"{{{{///olaitan>>>>////\"\n",
    "name.strip(\"{\").strip(\"/\").strip(\">\")"
   ]
  },
  {
   "cell_type": "code",
   "execution_count": 1,
   "id": "8120f2a0",
   "metadata": {},
   "outputs": [],
   "source": [
    "# Ends With"
   ]
  },
  {
   "cell_type": "code",
   "execution_count": 2,
   "id": "3ef5177c",
   "metadata": {},
   "outputs": [
    {
     "data": {
      "text/plain": [
       "True"
      ]
     },
     "execution_count": 2,
     "metadata": {},
     "output_type": "execute_result"
    }
   ],
   "source": [
    "name = \"olaitan\"\n",
    "name.endswith(\"n\")"
   ]
  },
  {
   "cell_type": "code",
   "execution_count": 3,
   "id": "bb6df90a",
   "metadata": {},
   "outputs": [
    {
     "data": {
      "text/plain": [
       "False"
      ]
     },
     "execution_count": 3,
     "metadata": {},
     "output_type": "execute_result"
    }
   ],
   "source": [
    "name = \"olaitan\"\n",
    "name.endswith(\"z\")"
   ]
  },
  {
   "cell_type": "code",
   "execution_count": 4,
   "id": "b20b8e41",
   "metadata": {},
   "outputs": [],
   "source": [
    "#Start With"
   ]
  },
  {
   "cell_type": "code",
   "execution_count": 6,
   "id": "e488c8f8",
   "metadata": {},
   "outputs": [
    {
     "data": {
      "text/plain": [
       "False"
      ]
     },
     "execution_count": 6,
     "metadata": {},
     "output_type": "execute_result"
    }
   ],
   "source": [
    "name = \"olaitan\"\n",
    "name.endswith(\"z\")"
   ]
  },
  {
   "cell_type": "code",
   "execution_count": 8,
   "id": "dce6e1b7",
   "metadata": {},
   "outputs": [
    {
     "data": {
      "text/plain": [
       "'olaitan'"
      ]
     },
     "execution_count": 8,
     "metadata": {},
     "output_type": "execute_result"
    }
   ],
   "source": [
    "name"
   ]
  },
  {
   "cell_type": "code",
   "execution_count": 17,
   "id": "c84c48c3",
   "metadata": {},
   "outputs": [
    {
     "data": {
      "text/plain": [
       "'OLAITAN'"
      ]
     },
     "execution_count": 17,
     "metadata": {},
     "output_type": "execute_result"
    }
   ],
   "source": [
    "name = \"olaitan\"\n",
    "name = name.upper()\n",
    "name"
   ]
  },
  {
   "cell_type": "code",
   "execution_count": 18,
   "id": "a6eced3d",
   "metadata": {},
   "outputs": [
    {
     "data": {
      "text/plain": [
       "'OLAITAN'"
      ]
     },
     "execution_count": 18,
     "metadata": {},
     "output_type": "execute_result"
    }
   ],
   "source": [
    "name"
   ]
  },
  {
   "cell_type": "code",
   "execution_count": 21,
   "id": "09d5ed3e",
   "metadata": {},
   "outputs": [
    {
     "data": {
      "text/plain": [
       "'olaitan'"
      ]
     },
     "execution_count": 21,
     "metadata": {},
     "output_type": "execute_result"
    }
   ],
   "source": [
    "name = \"olaitan\"\n",
    "name =name.lower()\n",
    "name"
   ]
  },
  {
   "cell_type": "code",
   "execution_count": 22,
   "id": "2322bb97",
   "metadata": {},
   "outputs": [
    {
     "name": "stdout",
     "output_type": "stream",
     "text": [
      "olaytan\n"
     ]
    }
   ],
   "source": [
    "name = \"olaitan\"\n",
    "name = name.replace(\"i\", \"y\")\n",
    "print(name)"
   ]
  },
  {
   "cell_type": "code",
   "execution_count": 23,
   "id": "f73cac32",
   "metadata": {},
   "outputs": [
    {
     "data": {
      "text/plain": [
       "-1"
      ]
     },
     "execution_count": 23,
     "metadata": {},
     "output_type": "execute_result"
    }
   ],
   "source": [
    "name.find(\"z\")"
   ]
  },
  {
   "cell_type": "code",
   "execution_count": 24,
   "id": "80bf757d",
   "metadata": {},
   "outputs": [
    {
     "name": "stdout",
     "output_type": "stream",
     "text": [
      "tosin\n"
     ]
    }
   ],
   "source": [
    "name = \"olaitan\"\n",
    "name = name.replace(\"olaitan\", \"tosin\")\n",
    "print(name)"
   ]
  },
  {
   "cell_type": "code",
   "execution_count": 26,
   "id": "bd24f45c",
   "metadata": {},
   "outputs": [],
   "source": [
    "#List\n"
   ]
  },
  {
   "cell_type": "code",
   "execution_count": null,
   "id": "6faa310c",
   "metadata": {},
   "outputs": [],
   "source": [
    "lis =[       ] # an empty list"
   ]
  },
  {
   "cell_type": "code",
   "execution_count": 27,
   "id": "50512d9d",
   "metadata": {},
   "outputs": [
    {
     "data": {
      "text/plain": [
       "'sancho'"
      ]
     },
     "execution_count": 27,
     "metadata": {},
     "output_type": "execute_result"
    }
   ],
   "source": [
    "lis1 = [\"cow\", 2, 6.6, [23,5], \"JAMES\", \"sancho\", \"rice\", \"white\"  ]\n",
    "lis1[5]"
   ]
  },
  {
   "cell_type": "code",
   "execution_count": 28,
   "id": "3f69512e",
   "metadata": {},
   "outputs": [
    {
     "data": {
      "text/plain": [
       "5"
      ]
     },
     "execution_count": 28,
     "metadata": {},
     "output_type": "execute_result"
    }
   ],
   "source": [
    "lis1[3][1]"
   ]
  },
  {
   "cell_type": "code",
   "execution_count": 30,
   "id": "38080964",
   "metadata": {},
   "outputs": [
    {
     "data": {
      "text/plain": [
       "['cow', 2, 6.6, [23, 5], 'JAMES', 'sancho']"
      ]
     },
     "execution_count": 30,
     "metadata": {},
     "output_type": "execute_result"
    }
   ],
   "source": [
    "lis1[0:6]"
   ]
  },
  {
   "cell_type": "code",
   "execution_count": null,
   "id": "801d701c",
   "metadata": {},
   "outputs": [],
   "source": [
    "# Method of List\n",
    "1. append: is used to add element to the end of a list\n",
    "2. pop: is used to removes elements at specific index\n",
    "3. remove: is ued to delete element specified\n",
    "4. sort: is ued to sort element of a list"
   ]
  },
  {
   "cell_type": "code",
   "execution_count": 32,
   "id": "31258374",
   "metadata": {},
   "outputs": [
    {
     "name": "stdout",
     "output_type": "stream",
     "text": [
      "[1, 'kola', 'ade', 'elepant']\n"
     ]
    }
   ],
   "source": [
    "lis = [1,\"kola\", \"ade\"]\n",
    "lis.append(\"elepant\")\n",
    "print(lis)"
   ]
  },
  {
   "cell_type": "code",
   "execution_count": 33,
   "id": "20142e78",
   "metadata": {},
   "outputs": [
    {
     "data": {
      "text/plain": [
       "'ade'"
      ]
     },
     "execution_count": 33,
     "metadata": {},
     "output_type": "execute_result"
    }
   ],
   "source": [
    "lis = [1,\"kola\", \"ade\"]\n",
    "lis.pop()"
   ]
  },
  {
   "cell_type": "code",
   "execution_count": 34,
   "id": "86c1af1b",
   "metadata": {},
   "outputs": [
    {
     "name": "stdout",
     "output_type": "stream",
     "text": [
      "[1, 'kola']\n",
      "ade\n"
     ]
    }
   ],
   "source": [
    "lis = [1,\"kola\", \"ade\"]\n",
    "name =lis.pop()\n",
    "print(lis)\n",
    "print(name)"
   ]
  },
  {
   "cell_type": "code",
   "execution_count": 35,
   "id": "acd4905d",
   "metadata": {},
   "outputs": [
    {
     "name": "stdout",
     "output_type": "stream",
     "text": [
      "[1, 'ade']\n",
      "kola\n"
     ]
    }
   ],
   "source": [
    "lis = [1,\"kola\", \"ade\"]\n",
    "name =lis.pop(1)\n",
    "print(lis)\n",
    "print(name)"
   ]
  },
  {
   "cell_type": "code",
   "execution_count": null,
   "id": "91c5a5e2",
   "metadata": {},
   "outputs": [],
   "source": [
    "# Remove"
   ]
  },
  {
   "cell_type": "code",
   "execution_count": 36,
   "id": "0fb07eeb",
   "metadata": {},
   "outputs": [
    {
     "name": "stdout",
     "output_type": "stream",
     "text": [
      "['kola', 'ade']\n"
     ]
    }
   ],
   "source": [
    "lis = [7,\"kola\", \"ade\"]\n",
    "lis.remove(7)\n",
    "print(lis)"
   ]
  },
  {
   "cell_type": "code",
   "execution_count": 38,
   "id": "7d3918d0",
   "metadata": {},
   "outputs": [
    {
     "name": "stdout",
     "output_type": "stream",
     "text": [
      "[7, 'kola']\n"
     ]
    }
   ],
   "source": [
    "lis = [7,\"kola\", \"ade\"]\n",
    "lis.remove(\"ade\")\n",
    "print(lis)"
   ]
  },
  {
   "cell_type": "code",
   "execution_count": null,
   "id": "d331cf8b",
   "metadata": {},
   "outputs": [],
   "source": [
    "# Sort"
   ]
  },
  {
   "cell_type": "code",
   "execution_count": 40,
   "id": "ff24e191",
   "metadata": {},
   "outputs": [
    {
     "name": "stdout",
     "output_type": "stream",
     "text": [
      "[2, 3, 4, 7, 7, 8, 10]\n"
     ]
    }
   ],
   "source": [
    "lis =[2,7,3,10,4,7,8]\n",
    "lis.sort()\n",
    "print(lis)"
   ]
  },
  {
   "cell_type": "code",
   "execution_count": 42,
   "id": "de58e887",
   "metadata": {},
   "outputs": [
    {
     "name": "stdout",
     "output_type": "stream",
     "text": [
      "[10, 8, 7, 7, 4, 3, 2]\n"
     ]
    }
   ],
   "source": [
    "lis =[2,7,3,10,4,7,8]\n",
    "lis.sort(reverse=True)\n",
    "print(lis)"
   ]
  },
  {
   "cell_type": "code",
   "execution_count": 45,
   "id": "d6d87d4a",
   "metadata": {},
   "outputs": [
    {
     "name": "stdout",
     "output_type": "stream",
     "text": [
      "[2, 3, 4, 7, 7, 8, 10]\n"
     ]
    }
   ],
   "source": [
    "lis =[2,7,3,10,4,7,8]\n",
    "lis.sort(reverse=False)\n",
    "print(lis)"
   ]
  },
  {
   "cell_type": "markdown",
   "id": "66bcf920",
   "metadata": {},
   "source": [
    "# Modify The Element of a List"
   ]
  },
  {
   "cell_type": "code",
   "execution_count": 43,
   "id": "acc57a3b",
   "metadata": {},
   "outputs": [
    {
     "data": {
      "text/plain": [
       "'sancho'"
      ]
     },
     "execution_count": 43,
     "metadata": {},
     "output_type": "execute_result"
    }
   ],
   "source": [
    "lis1 = [\"cow\", 2, 6.6, [23,5], \"JAMES\", \"sancho\", \"rice\", \"white\"  ]\n",
    "# change sancho to rashford\n",
    "lis1[5]"
   ]
  },
  {
   "cell_type": "code",
   "execution_count": 44,
   "id": "81c91f79",
   "metadata": {},
   "outputs": [
    {
     "name": "stdout",
     "output_type": "stream",
     "text": [
      "['cow', 2, 6.6, [23, 5], 'JAMES', 'rashford', 'rice', 'white']\n"
     ]
    }
   ],
   "source": [
    "lis1 = [\"cow\", 2, 6.6, [23,5], \"JAMES\", \"sancho\", \"rice\", \"white\"  ]\n",
    "# change sancho to rashford\n",
    "lis1[5] = \"rashford\"\n",
    "print(lis1)"
   ]
  },
  {
   "cell_type": "code",
   "execution_count": null,
   "id": "26d90392",
   "metadata": {},
   "outputs": [],
   "source": [
    "#Tuple\n",
    "\n",
    "tup =(       ) #an empty tuple"
   ]
  },
  {
   "cell_type": "code",
   "execution_count": 47,
   "id": "2f035f47",
   "metadata": {},
   "outputs": [
    {
     "data": {
      "text/plain": [
       "3"
      ]
     },
     "execution_count": 47,
     "metadata": {},
     "output_type": "execute_result"
    }
   ],
   "source": [
    "tup = (2, \"kazeem\", \"olaitan\", \"james\", \"ada\", [2,3,6,7])\n",
    "tup[5][1]"
   ]
  },
  {
   "cell_type": "code",
   "execution_count": 48,
   "id": "e3f3eb26",
   "metadata": {},
   "outputs": [
    {
     "data": {
      "text/plain": [
       "1"
      ]
     },
     "execution_count": 48,
     "metadata": {},
     "output_type": "execute_result"
    }
   ],
   "source": [
    "tup.count(2)"
   ]
  },
  {
   "cell_type": "code",
   "execution_count": null,
   "id": "dcacea6d",
   "metadata": {},
   "outputs": [],
   "source": [
    "#SET\n",
    "it remove duplicate entry or set"
   ]
  },
  {
   "cell_type": "code",
   "execution_count": 50,
   "id": "134384ba",
   "metadata": {},
   "outputs": [
    {
     "data": {
      "text/plain": [
       "{0, 2, 5, 9}"
      ]
     },
     "execution_count": 50,
     "metadata": {},
     "output_type": "execute_result"
    }
   ],
   "source": [
    "set1 ={ 2,9,0,5}\n",
    "set1"
   ]
  },
  {
   "cell_type": "code",
   "execution_count": 51,
   "id": "3e7c4a72",
   "metadata": {},
   "outputs": [
    {
     "data": {
      "text/plain": [
       "{0, 2, 5, 7, 9, 100, 300}"
      ]
     },
     "execution_count": 51,
     "metadata": {},
     "output_type": "execute_result"
    }
   ],
   "source": [
    "set1 ={ 100,300,7,2,9,0,5,2,2,2}\n",
    "set1"
   ]
  },
  {
   "cell_type": "code",
   "execution_count": null,
   "id": "78238a8d",
   "metadata": {},
   "outputs": [],
   "source": [
    "# Dictionary: It has key(:) and value pair relatioship"
   ]
  },
  {
   "cell_type": "code",
   "execution_count": 55,
   "id": "e4233f4d",
   "metadata": {},
   "outputs": [],
   "source": [
    "dic ={\"name\":\"olaitan\", \"age\":12, \"address\":\"olowoira\"}"
   ]
  },
  {
   "cell_type": "code",
   "execution_count": 56,
   "id": "3dc89572",
   "metadata": {},
   "outputs": [
    {
     "data": {
      "text/plain": [
       "{'name': 'olaitan', 'age': 12, 'address': 'olowoira'}"
      ]
     },
     "execution_count": 56,
     "metadata": {},
     "output_type": "execute_result"
    }
   ],
   "source": [
    "dic"
   ]
  },
  {
   "cell_type": "code",
   "execution_count": 57,
   "id": "bbd3e7b9",
   "metadata": {},
   "outputs": [
    {
     "name": "stdout",
     "output_type": "stream",
     "text": [
      "{'name': 'olaitan', 'age': 45, 'address': 'olowoira'}\n"
     ]
    }
   ],
   "source": [
    "# change age from 12 to 45\n",
    "dic[\"age\"] =45\n",
    "print(dic)"
   ]
  },
  {
   "cell_type": "code",
   "execution_count": 58,
   "id": "783640f6",
   "metadata": {},
   "outputs": [
    {
     "name": "stdout",
     "output_type": "stream",
     "text": [
      "{'name': 'olaitan', 'age': 12, 'address': 'olowoira', 'salary': 12235432}\n"
     ]
    }
   ],
   "source": [
    "# adding new element to dictionary\n",
    "dic ={\"name\":\"olaitan\", \"age\":12, \"address\":\"olowoira\"}\n",
    "dic[\"salary\"] = 12235432\n",
    "print(dic)"
   ]
  },
  {
   "cell_type": "code",
   "execution_count": 59,
   "id": "720b63c4",
   "metadata": {},
   "outputs": [
    {
     "data": {
      "text/plain": [
       "{'age': 12, 'address': 'olowoira', 'salary': 12235432}"
      ]
     },
     "execution_count": 59,
     "metadata": {},
     "output_type": "execute_result"
    }
   ],
   "source": [
    "dic.pop(\"name\") #it is used to remove a key or element\n",
    "dic"
   ]
  },
  {
   "cell_type": "code",
   "execution_count": null,
   "id": "c9095344",
   "metadata": {},
   "outputs": [],
   "source": [
    "# dictionary of List"
   ]
  },
  {
   "cell_type": "code",
   "execution_count": 62,
   "id": "2694527e",
   "metadata": {},
   "outputs": [
    {
     "name": "stdout",
     "output_type": "stream",
     "text": [
      "{'name': ['olaitan', 'kazeem', 'james', 'sancho'], 'age': [12, 13, 66, 77], 'address': ['olowoira', 'berger', 'A', 'K']}\n"
     ]
    }
   ],
   "source": [
    "dic ={\"name\":[\"olaitan\",\"kazeem\", \"james\",\"sancho\"],\n",
    "      \"age\":[12,13,66,77], \"address\":[\"olowoira\", \"berger\", \"A\", \"K\"]}\n",
    "print(dic)"
   ]
  },
  {
   "cell_type": "code",
   "execution_count": 68,
   "id": "e423bc97",
   "metadata": {},
   "outputs": [
    {
     "name": "stdout",
     "output_type": "stream",
     "text": [
      "{'name': ['olaitan', 'kazeem', 'james', 'sancho'], 'age': [12, 13, 66, 77], 'address': ['olowoira', 'Arepo', 'A', 'K']}\n"
     ]
    }
   ],
   "source": [
    "dic[\"address\"][1]=\"Arepo\"\n",
    "print(dic)"
   ]
  },
  {
   "cell_type": "code",
   "execution_count": 69,
   "id": "6336f62a",
   "metadata": {},
   "outputs": [
    {
     "name": "stdout",
     "output_type": "stream",
     "text": [
      "{'name': ['olaitan', 'kazeem', 'james', 'sancho'], 'age': [12, 13, 66, 77], 'address': ['olowoira', 'berger', 'A', 'K']}\n"
     ]
    }
   ],
   "source": [
    "ola={\"name\":[\"olaitan\",\"kazeem\", \"james\",\"sancho\"],\n",
    "      \"age\":[12,13,66,77], \"address\":[\"olowoira\", \"berger\", \"A\", \"K\"]}\n",
    "print(ola)"
   ]
  },
  {
   "cell_type": "code",
   "execution_count": null,
   "id": "bd47b879",
   "metadata": {},
   "outputs": [],
   "source": []
  },
  {
   "cell_type": "markdown",
   "id": "9a93ac37",
   "metadata": {},
   "source": [
    "# CONTROL FLOW \n",
    "They are order in which python code is being executed\n",
    "1. Conditional Statemet\n",
    "  a. if\n",
    "  b. elif\n",
    "  c. else\n",
    " \n",
    " # loop Statement\n",
    "   a.for loop\n",
    "   b. while loop\n",
    "   \n",
    " # Error Handling Statement\n",
    "  a. try\n",
    "  b. except\n",
    "  c. finally\n",
    "  "
   ]
  },
  {
   "cell_type": "code",
   "execution_count": null,
   "id": "0c81e11c",
   "metadata": {},
   "outputs": [],
   "source": [
    "# IF- for every control flow column(:) must end it"
   ]
  },
  {
   "cell_type": "code",
   "execution_count": 70,
   "id": "c282bf56",
   "metadata": {},
   "outputs": [
    {
     "name": "stdout",
     "output_type": "stream",
     "text": [
      "we are cool at this point\n",
      "8\n"
     ]
    }
   ],
   "source": [
    "name = \"oloaitan\"\n",
    "if name.endswith(\"n\"):\n",
    "    print(\"we are cool at this point\")\n",
    "    w=3\n",
    "    t=5\n",
    "    print(w+t)"
   ]
  },
  {
   "cell_type": "code",
   "execution_count": 74,
   "id": "def9833b",
   "metadata": {},
   "outputs": [
    {
     "name": "stdout",
     "output_type": "stream",
     "text": [
      "i am running because your condition is false\n"
     ]
    }
   ],
   "source": [
    "name = \"oloaitan\"\n",
    "if name.endswith(\"z\"):\n",
    "    print(\"we are cool at this point\")\n",
    "    w=3\n",
    "    t=5\n",
    "    print(w+t)\n",
    "else:\n",
    "    print(\"i am running because your condition is false\")"
   ]
  },
  {
   "cell_type": "code",
   "execution_count": null,
   "id": "6d14019f",
   "metadata": {},
   "outputs": [],
   "source": [
    "#elif"
   ]
  },
  {
   "cell_type": "code",
   "execution_count": 78,
   "id": "3397172b",
   "metadata": {},
   "outputs": [
    {
     "name": "stdout",
     "output_type": "stream",
     "text": [
      "10\n",
      "20\n",
      "fine\n",
      "30\n"
     ]
    }
   ],
   "source": [
    "num1 = int(input())\n",
    "num2 = int(input())\n",
    "if (num1>10) and (num2<20):\n",
    "    total =num1 + num2\n",
    "    print(total)\n",
    "elif (num1==10) and (num2==20):\n",
    "    print(\"fine\")\n",
    "    print(num1 + num2)\n",
    "elif (num1<10) and (num2>20):\n",
    "    print(num2 - num1)\n",
    "else:\n",
    "    print(\"what other combination did you think of\")"
   ]
  },
  {
   "cell_type": "code",
   "execution_count": 79,
   "id": "a5ae66f1",
   "metadata": {},
   "outputs": [
    {
     "name": "stdout",
     "output_type": "stream",
     "text": [
      "10\n",
      "20\n",
      "fine\n",
      "30\n",
      "what other combination did you think of\n"
     ]
    }
   ],
   "source": [
    "num1 = int(input())\n",
    "num2 = int(input())\n",
    "if (num1>10) and (num2<20):\n",
    "    total =num1 + num2\n",
    "    print(total)\n",
    "if (num1==10) and (num2==20):\n",
    "    print(\"fine\")\n",
    "    print(num1 + num2)\n",
    "if (num1<10) and (num2>20):\n",
    "    print(num2 - num1)\n",
    "else:\n",
    "    print(\"what other combination did you think of\")"
   ]
  },
  {
   "cell_type": "code",
   "execution_count": 80,
   "id": "03029b2b",
   "metadata": {},
   "outputs": [
    {
     "name": "stdout",
     "output_type": "stream",
     "text": [
      "20\n",
      "10\n",
      "30\n",
      "what other combination did you think of\n"
     ]
    }
   ],
   "source": [
    "num1 = int(input())\n",
    "num2 = int(input())\n",
    "if (num1>10) and (num2<20):\n",
    "    total =num1 + num2\n",
    "    print(total)\n",
    "if (num1==10) and (num2==20):\n",
    "    print(\"fine\")\n",
    "    print(num1 + num2)\n",
    "if (num1<10) and (num2>20):\n",
    "    print(num2 - num1)\n",
    "else:\n",
    "    print(\"what other combination did you think of\")"
   ]
  },
  {
   "cell_type": "code",
   "execution_count": null,
   "id": "98b21515",
   "metadata": {},
   "outputs": [],
   "source": [
    "#loop statement is used to iterate over an iterable element\n",
    "i. for loop\n",
    "ii. while loop"
   ]
  },
  {
   "cell_type": "code",
   "execution_count": 84,
   "id": "50c834b4",
   "metadata": {},
   "outputs": [
    {
     "data": {
      "text/plain": [
       "'olaitan'"
      ]
     },
     "execution_count": 84,
     "metadata": {},
     "output_type": "execute_result"
    }
   ],
   "source": [
    "name = \"olaitan\"\n",
    "name"
   ]
  },
  {
   "cell_type": "code",
   "execution_count": 85,
   "id": "5510487f",
   "metadata": {},
   "outputs": [
    {
     "name": "stdout",
     "output_type": "stream",
     "text": [
      "o\n",
      "l\n",
      "a\n",
      "i\n",
      "t\n",
      "a\n",
      "n\n"
     ]
    }
   ],
   "source": [
    "name=\"olaitan\"\n",
    "for i in name:\n",
    "    print(i)"
   ]
  },
  {
   "cell_type": "code",
   "execution_count": 86,
   "id": "57bdfb7a",
   "metadata": {},
   "outputs": [
    {
     "name": "stdout",
     "output_type": "stream",
     "text": [
      "olaitan\n",
      "james\n",
      "ayo\n"
     ]
    }
   ],
   "source": [
    "lis1=[\"olaitan\",\"james\", \"ayo\"]\n",
    "for i in lis1:\n",
    "    print(i)"
   ]
  },
  {
   "cell_type": "markdown",
   "id": "ae7299ad",
   "metadata": {},
   "source": [
    "# RANGE\n",
    "IT print integers"
   ]
  },
  {
   "cell_type": "code",
   "execution_count": null,
   "id": "38053a7c",
   "metadata": {},
   "outputs": [],
   "source": [
    "range(str, end, skip)"
   ]
  },
  {
   "cell_type": "code",
   "execution_count": 87,
   "id": "02d63fe0",
   "metadata": {},
   "outputs": [
    {
     "data": {
      "text/plain": [
       "range(0, 10)"
      ]
     },
     "execution_count": 87,
     "metadata": {},
     "output_type": "execute_result"
    }
   ],
   "source": [
    "range(10)"
   ]
  },
  {
   "cell_type": "code",
   "execution_count": 90,
   "id": "46800340",
   "metadata": {},
   "outputs": [
    {
     "name": "stdout",
     "output_type": "stream",
     "text": [
      "0\n",
      "3\n",
      "6\n",
      "9\n"
     ]
    }
   ],
   "source": [
    "for i in range(0,10,3):\n",
    "    print(i)"
   ]
  },
  {
   "cell_type": "code",
   "execution_count": 91,
   "id": "7b57f497",
   "metadata": {},
   "outputs": [
    {
     "name": "stdout",
     "output_type": "stream",
     "text": [
      "0\n",
      "1\n",
      "2\n",
      "3\n",
      "4\n",
      "5\n",
      "6\n",
      "7\n",
      "8\n",
      "9\n"
     ]
    }
   ],
   "source": [
    "for i in range(10):\n",
    "    print(i)"
   ]
  },
  {
   "cell_type": "code",
   "execution_count": 95,
   "id": "d4cc6675",
   "metadata": {},
   "outputs": [
    {
     "name": "stdout",
     "output_type": "stream",
     "text": [
      "the element in even list before updating  []\n",
      "the element in odd list before updating  []\n",
      "the element in even list before updating  [0, 2, 4, 6, 8, 10, 12, 14, 16, 18, 20] \n",
      "\n",
      "the element in odd list before updating  [1, 3, 5, 7, 9, 11, 13, 15, 17, 19] \n",
      "\n"
     ]
    }
   ],
   "source": [
    "even = []\n",
    "odd = []\n",
    "print(\"the element in even list before updating \", even)\n",
    "print(\"the element in odd list before updating \", odd)\n",
    "for i in range(0,21):\n",
    "    if i%2==0:\n",
    "        even.append(i)\n",
    "    else:\n",
    "        odd.append(i)\n",
    "print(\"the element in even list before updating \", even,  \"\\n\")\n",
    "print(\"the element in odd list before updating \", odd, \"\\n\")\n",
    "    "
   ]
  },
  {
   "cell_type": "code",
   "execution_count": null,
   "id": "62e74dde",
   "metadata": {},
   "outputs": [],
   "source": [
    "# while loop: It check for condition, if the condition is valid, what ever is in the block of while is executed"
   ]
  },
  {
   "cell_type": "code",
   "execution_count": 99,
   "id": "7a6a9dd9",
   "metadata": {},
   "outputs": [
    {
     "name": "stdout",
     "output_type": "stream",
     "text": [
      "we are inside while loop 0\n",
      "we are inside while loop 1\n",
      "we are inside while loop 2\n",
      "we are inside while loop 3\n",
      "we are inside while loop 4\n",
      "we are inside while loop 5\n"
     ]
    }
   ],
   "source": [
    "counter =0\n",
    "while counter<=5:# as far as counter is less than or equal to 5 continue with while\n",
    "    print(\"we are inside while loop {}\".format(counter))\n",
    "    counter+=1\n"
   ]
  },
  {
   "cell_type": "code",
   "execution_count": null,
   "id": "aed72502",
   "metadata": {},
   "outputs": [],
   "source": [
    "#FORMAT: IS ALSO A METHOD OF STRINGS"
   ]
  },
  {
   "cell_type": "code",
   "execution_count": 98,
   "id": "4ec72eed",
   "metadata": {},
   "outputs": [
    {
     "name": "stdout",
     "output_type": "stream",
     "text": [
      "enter your name  Amos\n",
      "enter your age  20\n",
      "my name isAmos and i am 20 years old\n"
     ]
    }
   ],
   "source": [
    "name = input(\"enter your name  \")\n",
    "age = input(\"enter your age  \")\n",
    "print(\"my name is{} and i am {} years old\".format(name,age))"
   ]
  },
  {
   "cell_type": "code",
   "execution_count": 1,
   "id": "640c3b1f",
   "metadata": {},
   "outputs": [
    {
     "name": "stdout",
     "output_type": "stream",
     "text": [
      "quit\n"
     ]
    }
   ],
   "source": [
    "while True:\n",
    "    user_input = input()\n",
    "    if user_input== \"quit\":\n",
    "        break\n",
    "        print(\"the user name is\", user_input)"
   ]
  },
  {
   "cell_type": "code",
   "execution_count": 10,
   "id": "5ca37fcb",
   "metadata": {},
   "outputs": [
    {
     "name": "stdout",
     "output_type": "stream",
     "text": [
      "Quit\n"
     ]
    }
   ],
   "source": [
    "while True:\n",
    "    user_input = input().upper()\n",
    "    if user_input== \"QUIT\":\n",
    "        break\n",
    "        print(\"the user name is\", user_input)"
   ]
  },
  {
   "cell_type": "code",
   "execution_count": 9,
   "id": "043ea8a5",
   "metadata": {},
   "outputs": [
    {
     "data": {
      "text/plain": [
       "'GGG'"
      ]
     },
     "execution_count": 9,
     "metadata": {},
     "output_type": "execute_result"
    }
   ],
   "source": []
  },
  {
   "cell_type": "code",
   "execution_count": 21,
   "id": "2732b9c5",
   "metadata": {},
   "outputs": [
    {
     "name": "stdout",
     "output_type": "stream",
     "text": [
      "[0, 2, 4, 6, 8, 10]\n",
      "[1, 3, 5, 7, 9, 11]\n"
     ]
    }
   ],
   "source": [
    "even=[]\n",
    "odd=[]\n",
    "num = range(21)\n",
    "for i in num:\n",
    "    if i==12:\n",
    "        break\n",
    "    if i%2==0:\n",
    "        even.append(i)\n",
    "    else:\n",
    "        odd.append(i)\n",
    "print(even)\n",
    "print(odd)"
   ]
  },
  {
   "cell_type": "code",
   "execution_count": null,
   "id": "20f2ccd2",
   "metadata": {},
   "outputs": [],
   "source": [
    "#continue: will skip when the point of condition is met and go ahead with the rest of the element "
   ]
  },
  {
   "cell_type": "code",
   "execution_count": 22,
   "id": "62151d7f",
   "metadata": {},
   "outputs": [
    {
     "name": "stdout",
     "output_type": "stream",
     "text": [
      "[0, 2, 4, 6, 8, 10, 14, 16, 18, 20]\n",
      "[1, 3, 5, 7, 9, 11, 13, 15, 17, 19]\n"
     ]
    }
   ],
   "source": [
    "even=[]\n",
    "odd=[]\n",
    "num = range(21)\n",
    "for i in num:\n",
    "    if i==12:\n",
    "        continue\n",
    "    if i%2==0:\n",
    "        even.append(i)\n",
    "    else:\n",
    "        odd.append(i)\n",
    "print(even)\n",
    "print(odd)"
   ]
  },
  {
   "cell_type": "code",
   "execution_count": 30,
   "id": "bcf2ae92",
   "metadata": {},
   "outputs": [
    {
     "name": "stdout",
     "output_type": "stream",
     "text": [
      "1\n",
      "2\n",
      "3\n",
      "4\n",
      "5\n",
      "6\n",
      "7\n",
      "8\n",
      "9\n",
      "10\n",
      "11\n",
      "12\n",
      "13\n",
      "14\n",
      "15\n",
      "16\n",
      "17\n",
      "18\n",
      "19\n",
      "20\n",
      "21\n",
      "22\n"
     ]
    }
   ],
   "source": [
    "for a in range(1,23):\n",
    "    print(a)"
   ]
  },
  {
   "cell_type": "code",
   "execution_count": 33,
   "id": "3bb4b611",
   "metadata": {},
   "outputs": [
    {
     "name": "stdout",
     "output_type": "stream",
     "text": [
      "1 2 3 4 5 6 7 8\n",
      "['1', '2', '3', '4', '5', '6', '7', '8']\n",
      "6\n"
     ]
    }
   ],
   "source": [
    "user =(input().split()   )\n",
    "print(user)\n",
    "total=int(user[0]) + int(user[4])\n",
    "print(total)"
   ]
  },
  {
   "cell_type": "code",
   "execution_count": null,
   "id": "d9f07aa8",
   "metadata": {},
   "outputs": [],
   "source": [
    "# Split change the string to list, as done above"
   ]
  },
  {
   "cell_type": "code",
   "execution_count": 37,
   "id": "9f907483",
   "metadata": {},
   "outputs": [
    {
     "name": "stdout",
     "output_type": "stream",
     "text": [
      "2 5\n",
      "['2', '5']\n"
     ]
    },
    {
     "ename": "IndexError",
     "evalue": "list index out of range",
     "output_type": "error",
     "traceback": [
      "\u001b[1;31m---------------------------------------------------------------------------\u001b[0m",
      "\u001b[1;31mIndexError\u001b[0m                                Traceback (most recent call last)",
      "\u001b[1;32m~\\AppData\\Local\\Temp\\ipykernel_12180\\3193793095.py\u001b[0m in \u001b[0;36m<module>\u001b[1;34m\u001b[0m\n\u001b[0;32m      1\u001b[0m \u001b[0muser\u001b[0m \u001b[1;33m=\u001b[0m\u001b[1;33m(\u001b[0m\u001b[0minput\u001b[0m\u001b[1;33m(\u001b[0m\u001b[1;33m)\u001b[0m\u001b[1;33m.\u001b[0m\u001b[0msplit\u001b[0m\u001b[1;33m(\u001b[0m\u001b[1;33m)\u001b[0m   \u001b[1;33m)\u001b[0m\u001b[1;33m\u001b[0m\u001b[1;33m\u001b[0m\u001b[0m\n\u001b[0;32m      2\u001b[0m \u001b[0mprint\u001b[0m\u001b[1;33m(\u001b[0m\u001b[0muser\u001b[0m\u001b[1;33m)\u001b[0m\u001b[1;33m\u001b[0m\u001b[1;33m\u001b[0m\u001b[0m\n\u001b[1;32m----> 3\u001b[1;33m \u001b[0mtotal\u001b[0m\u001b[1;33m=\u001b[0m\u001b[0mint\u001b[0m\u001b[1;33m(\u001b[0m\u001b[0muser\u001b[0m\u001b[1;33m[\u001b[0m\u001b[1;36m0\u001b[0m\u001b[1;33m]\u001b[0m\u001b[1;33m)\u001b[0m \u001b[1;33m+\u001b[0m \u001b[0mint\u001b[0m\u001b[1;33m(\u001b[0m\u001b[0muser\u001b[0m\u001b[1;33m[\u001b[0m\u001b[1;36m4\u001b[0m\u001b[1;33m]\u001b[0m\u001b[1;33m)\u001b[0m\u001b[1;33m\u001b[0m\u001b[1;33m\u001b[0m\u001b[0m\n\u001b[0m\u001b[0;32m      4\u001b[0m \u001b[1;32mif\u001b[0m \u001b[0mtotal\u001b[0m\u001b[1;33m>\u001b[0m\u001b[1;36m20\u001b[0m\u001b[1;33m:\u001b[0m\u001b[1;33m\u001b[0m\u001b[1;33m\u001b[0m\u001b[0m\n\u001b[0;32m      5\u001b[0m     \u001b[0mprint\u001b[0m\u001b[1;33m(\u001b[0m\u001b[1;34m\"i dont want Manchester City to win the League\"\u001b[0m\u001b[1;33m)\u001b[0m\u001b[1;33m\u001b[0m\u001b[1;33m\u001b[0m\u001b[0m\n",
      "\u001b[1;31mIndexError\u001b[0m: list index out of range"
     ]
    }
   ],
   "source": [
    "user =(input().split()   )\n",
    "print(user)\n",
    "total=int(user[0]) + int(user[4])\n",
    "if total>20:\n",
    "    print(\"i dont want Manchester City to win the League\")\n",
    "else:\n",
    "    print(\"Arsenal will win, though, i didnt like them\")"
   ]
  },
  {
   "cell_type": "markdown",
   "id": "51fcd20d",
   "metadata": {},
   "source": [
    "# Error Handling Statement"
   ]
  },
  {
   "cell_type": "code",
   "execution_count": null,
   "id": "823b9e0b",
   "metadata": {},
   "outputs": [],
   "source": [
    "try: will help to inspect error in the code\n",
    "except: helps to execute "
   ]
  },
  {
   "cell_type": "code",
   "execution_count": 39,
   "id": "89739b2b",
   "metadata": {},
   "outputs": [
    {
     "name": "stdout",
     "output_type": "stream",
     "text": [
      "2 3\n",
      "['2', '3']\n",
      "the length of the list is not upto 5, so the sum at the end is 5\n"
     ]
    }
   ],
   "source": [
    "try:\n",
    "    user =(input().split()   )\n",
    "    print(user)\n",
    "    total=int(user[0]) + int(user[4])\n",
    "    if total>20:\n",
    "        print(\"i dont want Manchester City to win the League\")\n",
    "    else:\n",
    "        print(\"Arsenal will win, though, i didnt like them\")\n",
    "    \n",
    "except:\n",
    "    total = int(user[0]) + int(user[-1])\n",
    "    print(\"the length of the list is not upto 5, so the sum at the end is\", total)"
   ]
  },
  {
   "cell_type": "code",
   "execution_count": null,
   "id": "f843dde7",
   "metadata": {},
   "outputs": [],
   "source": [
    "# finally: Will always be executed weather there is error or not"
   ]
  },
  {
   "cell_type": "code",
   "execution_count": 40,
   "id": "d52b0d69",
   "metadata": {},
   "outputs": [
    {
     "name": "stdout",
     "output_type": "stream",
     "text": [
      "4 3\n",
      "['4', '3']\n",
      "the length of the list is not upto 5, so the sum at the end is 7\n",
      "finally will always be executed weather there is error or not\n"
     ]
    }
   ],
   "source": [
    "try:\n",
    "    user =(input().split()   )\n",
    "    print(user)\n",
    "    total=int(user[0]) + int(user[4])\n",
    "    if total>20:\n",
    "        print(\"i dont want Manchester City to win the League\")\n",
    "    else:\n",
    "        print(\"Arsenal will win, though, i didnt like them\")\n",
    "    \n",
    "except:\n",
    "    total = int(user[0]) + int(user[-1])\n",
    "    print(\"the length of the list is not upto 5, so the sum at the end is\", total)\n",
    "finally:\n",
    "    print(\"finally will always be executed weather there is error or not\")"
   ]
  },
  {
   "cell_type": "markdown",
   "id": "0788896b",
   "metadata": {},
   "source": [
    "# FUNCTIONS IN PYTHON\n",
    "## Fumction are group of statement to perform a specific task \n",
    "## Type of Function\n",
    "1. Inbuit : They come along with python software\n",
    "2. User define function: They are designed by Programmers; the purpose is to avoid \"dry\"(Dont Repeat Yourself)"
   ]
  },
  {
   "cell_type": "code",
   "execution_count": 41,
   "id": "ebe07c02",
   "metadata": {},
   "outputs": [],
   "source": [
    "# def(definition)\n",
    "def greeting(): # non parameter function(it does not take in any parameter)\n",
    "    print(\"hello everyone, you are welcome to lasop!!!\")"
   ]
  },
  {
   "cell_type": "code",
   "execution_count": 43,
   "id": "ab3a0774",
   "metadata": {},
   "outputs": [
    {
     "name": "stdout",
     "output_type": "stream",
     "text": [
      "hello everyone, you are welcome to lasop!!!\n"
     ]
    }
   ],
   "source": [
    "greeting() # this calls out "
   ]
  },
  {
   "cell_type": "code",
   "execution_count": 44,
   "id": "5f6d8343",
   "metadata": {},
   "outputs": [],
   "source": [
    "def add_two_num(w,i):\n",
    "    total = w + i\n",
    "    return total"
   ]
  },
  {
   "cell_type": "code",
   "execution_count": 45,
   "id": "9d3563a8",
   "metadata": {},
   "outputs": [
    {
     "data": {
      "text/plain": [
       "32"
      ]
     },
     "execution_count": 45,
     "metadata": {},
     "output_type": "execute_result"
    }
   ],
   "source": [
    "add_two_num(23,9)"
   ]
  },
  {
   "cell_type": "code",
   "execution_count": 52,
   "id": "2f9706af",
   "metadata": {},
   "outputs": [],
   "source": [
    "def minute_conversion(minute):\n",
    "    sec = 60 * minute\n",
    "    return sec"
   ]
  },
  {
   "cell_type": "code",
   "execution_count": 53,
   "id": "11910d0b",
   "metadata": {},
   "outputs": [
    {
     "data": {
      "text/plain": [
       "240"
      ]
     },
     "execution_count": 53,
     "metadata": {},
     "output_type": "execute_result"
    }
   ],
   "source": [
    "minute_conversion(4)"
   ]
  },
  {
   "cell_type": "code",
   "execution_count": 54,
   "id": "6aa5a70b",
   "metadata": {},
   "outputs": [
    {
     "data": {
      "text/plain": [
       "1800"
      ]
     },
     "execution_count": 54,
     "metadata": {},
     "output_type": "execute_result"
    }
   ],
   "source": [
    "minute_conversion(30)"
   ]
  },
  {
   "cell_type": "code",
   "execution_count": 57,
   "id": "675040a1",
   "metadata": {},
   "outputs": [],
   "source": [
    "def sec_conversion(second):\n",
    "    minute=60* second\n",
    "    return minute"
   ]
  },
  {
   "cell_type": "code",
   "execution_count": 58,
   "id": "2d0c1e20",
   "metadata": {},
   "outputs": [
    {
     "data": {
      "text/plain": [
       "1800"
      ]
     },
     "execution_count": 58,
     "metadata": {},
     "output_type": "execute_result"
    }
   ],
   "source": [
    "sec_conversion(30)"
   ]
  },
  {
   "cell_type": "code",
   "execution_count": 63,
   "id": "753c07cc",
   "metadata": {},
   "outputs": [],
   "source": [
    "def area_of_rectangle(h , b):\n",
    "    area=1/2 * h*b\n",
    "    return area"
   ]
  },
  {
   "cell_type": "code",
   "execution_count": 65,
   "id": "9d785832",
   "metadata": {},
   "outputs": [
    {
     "data": {
      "text/plain": [
       "9.0"
      ]
     },
     "execution_count": 65,
     "metadata": {},
     "output_type": "execute_result"
    }
   ],
   "source": [
    "area_of_rectangle(2, 9)"
   ]
  },
  {
   "cell_type": "code",
   "execution_count": 1,
   "id": "fd6a56ff",
   "metadata": {},
   "outputs": [],
   "source": [
    "def area_of_rectangle(h , b):\n",
    "    area=1/2 * h*b\n",
    "    return area"
   ]
  },
  {
   "cell_type": "code",
   "execution_count": 2,
   "id": "a52f48a9",
   "metadata": {},
   "outputs": [
    {
     "data": {
      "text/plain": [
       "54.0"
      ]
     },
     "execution_count": 2,
     "metadata": {},
     "output_type": "execute_result"
    }
   ],
   "source": [
    " area_of_rectangle(9,12)"
   ]
  },
  {
   "cell_type": "code",
   "execution_count": null,
   "id": "79d1b749",
   "metadata": {},
   "outputs": [],
   "source": []
  },
  {
   "cell_type": "code",
   "execution_count": null,
   "id": "a3fc41ce",
   "metadata": {},
   "outputs": [],
   "source": []
  }
 ],
 "metadata": {
  "kernelspec": {
   "display_name": "Python 3 (ipykernel)",
   "language": "python",
   "name": "python3"
  },
  "language_info": {
   "codemirror_mode": {
    "name": "ipython",
    "version": 3
   },
   "file_extension": ".py",
   "mimetype": "text/x-python",
   "name": "python",
   "nbconvert_exporter": "python",
   "pygments_lexer": "ipython3",
   "version": "3.9.13"
  }
 },
 "nbformat": 4,
 "nbformat_minor": 5
}
